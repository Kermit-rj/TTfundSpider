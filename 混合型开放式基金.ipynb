{
 "cells": [
  {
   "cell_type": "code",
   "id": "initial_id",
   "metadata": {
    "collapsed": true,
    "ExecuteTime": {
     "end_time": "2025-07-18T12:39:25.510088Z",
     "start_time": "2025-07-18T12:39:17.772627Z"
    }
   },
   "source": [
    "import pandas as pd\n",
    "import numpy as np\n",
    "import re\n",
    "import time\n",
    "from selenium import webdriver\n",
    "from selenium.webdriver.chrome.service import Service\n",
    "from selenium.webdriver.common.by import By\n",
    "from selenium.common.exceptions import NoSuchElementException\n",
    "from webdriver_manager.chrome import ChromeDriverManager\n",
    "import warnings\n",
    "warnings.filterwarnings(\"ignore\", category=FutureWarning)"
   ],
   "outputs": [],
   "execution_count": 1
  },
  {
   "metadata": {
    "ExecuteTime": {
     "end_time": "2025-07-18T12:39:26.205584Z",
     "start_time": "2025-07-18T12:39:25.522044Z"
    }
   },
   "cell_type": "code",
   "source": [
    "fund_df = pd.read_excel(r'D:\\ruijian\\基金数据\\混合型开放式基金\\混合型基金名单.xlsx', dtype=str)\n",
    "\n",
    "# 将 fund_df 分成 10 份\n",
    "fund_chunks = np.array_split(fund_df, 10)\n",
    "\n",
    "# 选择第一份进行爬取（你也可以改成 0~9 之间的任意数字来控制处理哪一份）\n",
    "fund_df_part = fund_chunks[0]\n",
    "\n",
    "# ---------------------- 配置 ----------------------\n",
    "output_path = r'D:\\ruijian\\基金数据\\混合型开放式基金\\临时文件[0].xlsx'"
   ],
   "id": "d073c9a69fd36c22",
   "outputs": [],
   "execution_count": 2
  },
  {
   "metadata": {
    "jupyter": {
     "is_executing": true
    },
    "ExecuteTime": {
     "start_time": "2025-07-18T12:39:26.444884Z"
    }
   },
   "cell_type": "code",
   "source": [
    "def clean_illegal_chars(text):\n",
    "    ILLEGAL_CHARACTERS_RE = re.compile(r'[\\x00-\\x08\\x0b\\x0c\\x0e-\\x1f]')\n",
    "    return ILLEGAL_CHARACTERS_RE.sub('', text) if isinstance(text, str) else text\n",
    "\n",
    "# ---------------------- 初始化 ----------------------\n",
    "driver_path = ChromeDriverManager().install()\n",
    "service = Service(driver_path)\n",
    "driver = webdriver.Chrome(service=service)\n",
    "\n",
    "# 假设你已有基金列表 DataFrame：df\n",
    "fund_codes = fund_df_part[\"基金代码\"]\n",
    "total = len(fund_codes)\n",
    "\n",
    "# 初始化总数据 DataFrame\n",
    "df_total = pd.DataFrame(columns=[\"基金代码\", \"报告内容\"])\n",
    "\n",
    "# ---------------------- 主循环 ----------------------\n",
    "for idx, code in enumerate(fund_codes, start=1):\n",
    "    print(f\"正在爬取第 {idx}/{total} 只基金：{code}\")\n",
    "\n",
    "    url = f\"https://fundf10.eastmoney.com/jjgg_{code}_3.html\"\n",
    "    driver.get(url)\n",
    "\n",
    "    all_contents = []\n",
    "    main_window = driver.current_window_handle\n",
    "\n",
    "    while True:\n",
    "        time.sleep(1.5)\n",
    "\n",
    "        try:\n",
    "            links = driver.find_elements(By.XPATH, \"//*[@id='ggtable']/table/tbody/tr/td[1]/a[1]\")\n",
    "\n",
    "            for link in links:\n",
    "                try:\n",
    "                    current_handles = driver.window_handles\n",
    "                    link.click()\n",
    "                    time.sleep(2.5)\n",
    "\n",
    "                    new_window = [h for h in driver.window_handles if h != main_window][0]\n",
    "                    driver.switch_to.window(new_window)\n",
    "\n",
    "                    try:\n",
    "                        content = driver.find_element(By.ID, \"jjggzwcontent\").text\n",
    "                        all_contents.append(content)\n",
    "                    finally:\n",
    "                        driver.close()\n",
    "                        driver.switch_to.window(main_window)\n",
    "\n",
    "                except Exception as e:\n",
    "                    print(f\"[{code}] 链接处理出错: {e}\")\n",
    "                    driver.switch_to.window(main_window)\n",
    "                    continue\n",
    "\n",
    "            # 翻页判断\n",
    "            try:\n",
    "                next_page = driver.find_element(By.XPATH, \"//label[text()='下一页' and not(contains(@class, 'end'))]\")\n",
    "                next_page.click()\n",
    "            except NoSuchElementException:\n",
    "                print(f\"基金 {code} 提取完成\")\n",
    "                break\n",
    "\n",
    "        except Exception as e:\n",
    "            print(f\"[{code}] 页面提取出错: {e}\")\n",
    "            break\n",
    "\n",
    "    # ---------------------- 合并当前基金数据 ----------------------\n",
    "    if all_contents:\n",
    "        df_fund = pd.DataFrame(all_contents, columns=[\"报告内容\"])\n",
    "        df_fund[\"基金代码\"] = code\n",
    "        df_fund = df_fund[[\"基金代码\", \"报告内容\"]]\n",
    "        df_fund = df_fund.applymap(clean_illegal_chars)\n",
    "\n",
    "        # 合并到总 DataFrame\n",
    "        df_total = pd.concat([df_total, df_fund], ignore_index=True)\n",
    "\n",
    "        # 保存当前总数据（覆盖写入）\n",
    "        df_total.to_excel(output_path, index=False)\n",
    "    else:\n",
    "        print(f\"基金 {code} 无内容，跳过写入\")\n",
    "\n",
    "# 关闭浏览器\n",
    "driver.quit()"
   ],
   "id": "5b0807494d14fc0",
   "outputs": [],
   "execution_count": null
  }
 ],
 "metadata": {
  "kernelspec": {
   "display_name": "Python 3",
   "language": "python",
   "name": "python3"
  },
  "language_info": {
   "codemirror_mode": {
    "name": "ipython",
    "version": 2
   },
   "file_extension": ".py",
   "mimetype": "text/x-python",
   "name": "python",
   "nbconvert_exporter": "python",
   "pygments_lexer": "ipython2",
   "version": "2.7.6"
  }
 },
 "nbformat": 4,
 "nbformat_minor": 5
}
